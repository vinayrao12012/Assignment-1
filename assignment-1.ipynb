{
 "cells": [
  {
   "cell_type": "markdown",
   "id": "b08bb33c-5094-47f5-af91-29c9f304119e",
   "metadata": {},
   "source": [
    "## Question -1"
   ]
  },
  {
   "cell_type": "code",
   "execution_count": 1,
   "id": "4b5ae491-93cb-4dd2-8bd5-087f0fb84800",
   "metadata": {},
   "outputs": [],
   "source": [
    "a = \"VINAY\"\n",
    "b = [1,2,3,4,5]\n",
    "c = 98.12\n",
    "d = (76,45,32,98,11,53)"
   ]
  },
  {
   "cell_type": "markdown",
   "id": "35bc4b5e-5032-459a-a2d6-870c47987250",
   "metadata": {},
   "source": [
    "## Question -2"
   ]
  },
  {
   "cell_type": "code",
   "execution_count": 2,
   "id": "66d495d3-1215-4a8d-a3e3-dfce398bc707",
   "metadata": {},
   "outputs": [
    {
     "name": "stdout",
     "output_type": "stream",
     "text": [
      "<class 'str'>\n"
     ]
    }
   ],
   "source": [
    "var1 = \"\"\n",
    "print(type(var1))"
   ]
  },
  {
   "cell_type": "code",
   "execution_count": 4,
   "id": "bd0a6927-9d5c-45cd-a07c-de352c2a0c41",
   "metadata": {},
   "outputs": [
    {
     "name": "stdout",
     "output_type": "stream",
     "text": [
      "<class 'str'>\n"
     ]
    }
   ],
   "source": [
    "var2 = \"[ DS , ML , Python]\"\n",
    "print(type(var2))"
   ]
  },
  {
   "cell_type": "code",
   "execution_count": 6,
   "id": "774b7af0-5fbb-4d4f-8d75-937587556ca2",
   "metadata": {},
   "outputs": [
    {
     "name": "stdout",
     "output_type": "stream",
     "text": [
      "<class 'list'>\n"
     ]
    }
   ],
   "source": [
    "var3 = [ 'DS' , 'ML' , 'Python' ]\n",
    "print(type(var3))"
   ]
  },
  {
   "cell_type": "code",
   "execution_count": 7,
   "id": "f79c8530-feaf-4fbb-ae21-9f20fdc10c9d",
   "metadata": {},
   "outputs": [
    {
     "name": "stdout",
     "output_type": "stream",
     "text": [
      "<class 'int'>\n"
     ]
    }
   ],
   "source": [
    "var4 = 1\n",
    "print(type(var4))"
   ]
  },
  {
   "cell_type": "markdown",
   "id": "73b7403e-1ced-4f9a-8a57-a164fa7a93d5",
   "metadata": {},
   "source": [
    "## Question-3"
   ]
  },
  {
   "cell_type": "code",
   "execution_count": 10,
   "id": "5a33be1d-b7eb-4d6c-9dea-882326372548",
   "metadata": {},
   "outputs": [
    {
     "name": "stdout",
     "output_type": "stream",
     "text": [
      "5.0\n",
      "5\n",
      "160000\n"
     ]
    }
   ],
   "source": [
    "x = 20\n",
    "y = 4\n",
    "print(x/y)\n",
    "print(x//y)\n",
    "print(x**y)"
   ]
  },
  {
   "cell_type": "markdown",
   "id": "a55cefcd-86a6-4283-857a-df96de08e910",
   "metadata": {},
   "source": [
    "## Question -4"
   ]
  },
  {
   "cell_type": "code",
   "execution_count": 11,
   "id": "fdc48787-ed40-420e-931a-a2984f1b7d59",
   "metadata": {},
   "outputs": [
    {
     "name": "stdout",
     "output_type": "stream",
     "text": [
      "1\n",
      "<class 'int'>\n",
      "89\n",
      "<class 'int'>\n",
      "45.76\n",
      "<class 'float'>\n",
      "98.66\n",
      "<class 'float'>\n",
      "Vinay\n",
      "<class 'str'>\n",
      "Sanu\n",
      "<class 'str'>\n",
      "23.78\n",
      "<class 'float'>\n",
      "(7+7j)\n",
      "<class 'complex'>\n",
      "122.67\n",
      "<class 'float'>\n",
      "Bhoj\n",
      "<class 'str'>\n"
     ]
    }
   ],
   "source": [
    "list1 = [1,89,45.76,98.66,\"Vinay\",\"Sanu\",23.78,(7+7j),122.67,\"Bhoj\"]\n",
    "for i in list1:\n",
    "    print(i)\n",
    "    print(type(i))"
   ]
  },
  {
   "cell_type": "markdown",
   "id": "6a28a966-762e-4e52-8a0d-e91350308ed4",
   "metadata": {},
   "source": [
    "## Question -5"
   ]
  },
  {
   "cell_type": "code",
   "execution_count": 23,
   "id": "6befeec0-2304-45ec-96d1-f3536abeabca",
   "metadata": {},
   "outputs": [
    {
     "name": "stdin",
     "output_type": "stream",
     "text": [
      "Enter a number:  256\n",
      "Enter second number:  2\n"
     ]
    },
    {
     "name": "stdout",
     "output_type": "stream",
     "text": [
      "It will divide 256 by 2, 8 times\n"
     ]
    }
   ],
   "source": [
    "x = int(input(\"Enter a number: \"))\n",
    "num1 = x\n",
    "y = int(input(\"Enter second number: \"))\n",
    "count = 0\n",
    "while x % y == 0:\n",
    "    x = x//y\n",
    "    count+=1\n",
    "    \n",
    "print(f\"It will divide {num1} by {y}, {count} times\")   "
   ]
  },
  {
   "cell_type": "markdown",
   "id": "7cd4d926-3dab-4cd0-a915-a05d4816eef2",
   "metadata": {},
   "source": [
    "## Question -6"
   ]
  },
  {
   "cell_type": "code",
   "execution_count": 25,
   "id": "390ebb56-d69e-480f-9f79-8bf1f4797f88",
   "metadata": {},
   "outputs": [
    {
     "name": "stdout",
     "output_type": "stream",
     "text": [
      "It is divisible by 3\n",
      "It is not divisible by 3\n",
      "It is not divisible by 3\n",
      "It is divisible by 3\n",
      "It is not divisible by 3\n",
      "It is not divisible by 3\n",
      "It is divisible by 3\n",
      "It is not divisible by 3\n",
      "It is not divisible by 3\n",
      "It is divisible by 3\n",
      "It is not divisible by 3\n",
      "It is not divisible by 3\n",
      "It is divisible by 3\n",
      "It is not divisible by 3\n",
      "It is not divisible by 3\n",
      "It is divisible by 3\n",
      "It is not divisible by 3\n",
      "It is not divisible by 3\n",
      "It is divisible by 3\n",
      "It is not divisible by 3\n",
      "It is not divisible by 3\n",
      "It is divisible by 3\n",
      "It is not divisible by 3\n",
      "It is not divisible by 3\n",
      "It is divisible by 3\n"
     ]
    }
   ],
   "source": [
    "l1 = list(range(25))\n",
    "for i in l1:\n",
    "    if i%3 == 0:\n",
    "        print(\"It is divisible by 3\")\n",
    "    else:\n",
    "        print(\"It is not divisible by 3\")\n",
    "        "
   ]
  },
  {
   "cell_type": "markdown",
   "id": "30f6fb04-3c42-4571-b602-edbec322d135",
   "metadata": {},
   "source": [
    "## Question -7"
   ]
  },
  {
   "cell_type": "markdown",
   "id": "551463e0-f07f-48f2-b16f-c53d82cb6030",
   "metadata": {},
   "source": [
    "### Mutable data structures are those which we can modify like assign a value ,change value.\n",
    "### Immutable data structures are those which we can not modify."
   ]
  },
  {
   "cell_type": "code",
   "execution_count": 31,
   "id": "6764e702-7fb1-42d8-bd30-00a436b95278",
   "metadata": {},
   "outputs": [
    {
     "name": "stdout",
     "output_type": "stream",
     "text": [
      "[1, 2, 98, 4, 5]\n",
      "[1, 2, 98, 4, 5, 9, 8, 7]\n",
      "[2, 98, 4, 5]\n"
     ]
    }
   ],
   "source": [
    "## Mutable examples\n",
    "li1 = [1,2,3,4,5]\n",
    "li1[2] = 98\n",
    "print(li1)\n",
    "li2 = [9,8,7]\n",
    "print(li1+li2)\n",
    "li1.remove(1)\n",
    "print(li1)"
   ]
  },
  {
   "cell_type": "code",
   "execution_count": 32,
   "id": "36a6d47e-e7c3-4b19-965f-3e2cdfc986e3",
   "metadata": {},
   "outputs": [
    {
     "ename": "TypeError",
     "evalue": "'set' object does not support item assignment",
     "output_type": "error",
     "traceback": [
      "\u001b[0;31m---------------------------------------------------------------------------\u001b[0m",
      "\u001b[0;31mTypeError\u001b[0m                                 Traceback (most recent call last)",
      "Cell \u001b[0;32mIn[32], line 3\u001b[0m\n\u001b[1;32m      1\u001b[0m \u001b[38;5;66;03m## Immutable examples\u001b[39;00m\n\u001b[1;32m      2\u001b[0m set1 \u001b[38;5;241m=\u001b[39m {\u001b[38;5;241m1\u001b[39m,\u001b[38;5;241m2\u001b[39m,\u001b[38;5;241m3\u001b[39m,\u001b[38;5;241m4\u001b[39m,\u001b[38;5;241m5\u001b[39m}\n\u001b[0;32m----> 3\u001b[0m \u001b[43mset1\u001b[49m\u001b[43m[\u001b[49m\u001b[38;5;241;43m2\u001b[39;49m\u001b[43m]\u001b[49m \u001b[38;5;241m=\u001b[39m \u001b[38;5;241m100\u001b[39m\n\u001b[1;32m      4\u001b[0m \u001b[38;5;28mprint\u001b[39m(set1)\n",
      "\u001b[0;31mTypeError\u001b[0m: 'set' object does not support item assignment"
     ]
    }
   ],
   "source": [
    "## Immutable examples\n",
    "set1 = {1,2,3,4,5}\n",
    "set1[2] = 100\n",
    "print(set1)"
   ]
  },
  {
   "cell_type": "code",
   "execution_count": null,
   "id": "378140fa-022e-4bf4-9f7c-bde6c2a4bb0b",
   "metadata": {},
   "outputs": [],
   "source": []
  }
 ],
 "metadata": {
  "kernelspec": {
   "display_name": "Python 3 (ipykernel)",
   "language": "python",
   "name": "python3"
  },
  "language_info": {
   "codemirror_mode": {
    "name": "ipython",
    "version": 3
   },
   "file_extension": ".py",
   "mimetype": "text/x-python",
   "name": "python",
   "nbconvert_exporter": "python",
   "pygments_lexer": "ipython3",
   "version": "3.10.8"
  }
 },
 "nbformat": 4,
 "nbformat_minor": 5
}
